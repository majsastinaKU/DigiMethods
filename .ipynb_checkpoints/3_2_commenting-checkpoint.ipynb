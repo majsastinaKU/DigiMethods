{
 "cells": [
  {
   "cell_type": "code",
   "execution_count": null,
   "metadata": {},
   "outputs": [],
   "source": [
    "# A Jupyter notebook based on Phillip Brooker's commenting script"
   ]
  },
  {
   "cell_type": "code",
   "execution_count": null,
   "metadata": {},
   "outputs": [],
   "source": [
    "\"\"\"\n",
    "Programming with Python for Social Science\n",
    "Phillip Brooker\n",
    "\n",
    "3. 2. COMMENTING\n",
    "\"\"\""
   ]
  },
  {
   "cell_type": "code",
   "execution_count": 1,
   "metadata": {},
   "outputs": [],
   "source": [
    "#In this script you can see two types of comment. Some comments, like those\n",
    "#at the top of this page, are denoted by the use of three speech marks.\n",
    "#There, you can see that there are three speech marks to 'open' the comment,\n",
    "#then there is the comment itself, and then three speech marks to 'close' the\n",
    "#comment. Whatever is between the two sets of speech marks is a comment.\n",
    "\n",
    "#However, you can also see that comments can be denoted by putting a hash at\n",
    "#the start of the comment - this is what you can see in this line for instance."
   ]
  },
  {
   "cell_type": "markdown",
   "metadata": {},
   "source": [
    "# Date: 07/02/2020"
   ]
  },
  {
   "cell_type": "code",
   "execution_count": 2,
   "metadata": {},
   "outputs": [
    {
     "name": "stdout",
     "output_type": "stream",
     "text": [
      "Collecting GitPython\n",
      "\u001b[?25l  Downloading https://files.pythonhosted.org/packages/20/8c/4543981439d23c4ff65b2e62dddd767ebc84a8e664a9b67e840d1e2730d3/GitPython-3.0.5-py3-none-any.whl (455kB)\n",
      "\u001b[K     |████████████████████████████████| 460kB 2.5MB/s eta 0:00:01\n",
      "\u001b[?25hCollecting gitdb2>=2.0.0 (from GitPython)\n",
      "\u001b[?25l  Downloading https://files.pythonhosted.org/packages/03/6c/99296f89bad2ef85626e1df9f677acbee8885bb043ad82ad3ed4746d2325/gitdb2-2.0.6-py2.py3-none-any.whl (63kB)\n",
      "\u001b[K     |████████████████████████████████| 71kB 14.9MB/s eta 0:00:01\n",
      "\u001b[?25hCollecting smmap2>=2.0.0 (from gitdb2>=2.0.0->GitPython)\n",
      "  Downloading https://files.pythonhosted.org/packages/55/d2/866d45e3a121ee15a1dc013824d58072fd5c7799c9c34d01378eb262ca8f/smmap2-2.0.5-py2.py3-none-any.whl\n",
      "Installing collected packages: smmap2, gitdb2, GitPython\n",
      "Successfully installed GitPython-3.0.5 gitdb2-2.0.6 smmap2-2.0.5\n",
      "Note: you may need to restart the kernel to use updated packages.\n"
     ]
    }
   ],
   "source": [
    "pip install GitPython"
   ]
  },
  {
   "cell_type": "code",
   "execution_count": null,
   "metadata": {},
   "outputs": [],
   "source": []
  }
 ],
 "metadata": {
  "kernelspec": {
   "display_name": "Python 3",
   "language": "python",
   "name": "python3"
  },
  "language_info": {
   "codemirror_mode": {
    "name": "ipython",
    "version": 3
   },
   "file_extension": ".py",
   "mimetype": "text/x-python",
   "name": "python",
   "nbconvert_exporter": "python",
   "pygments_lexer": "ipython3",
   "version": "3.7.4"
  }
 },
 "nbformat": 4,
 "nbformat_minor": 2
}
